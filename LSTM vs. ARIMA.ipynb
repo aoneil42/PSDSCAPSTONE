{
 "cells": [
  {
   "cell_type": "code",
   "execution_count": 2,
   "metadata": {},
   "outputs": [],
   "source": [
    "countries <- c(\"Belgium\",\"Chile\",\"China\",\"Greece\",\"India\",\"Ireland\",\n",
    "               \"Israel\",\"Spain\",\"Turkey\",\"United Kingdom\",\"United States\")\n",
    "LSTM.MAPE <- as.data.frame(matrix(0, ncol = 4, nrow = length(countries)))\n",
    "ARIMA.MAPE <- as.data.frame(matrix(0, ncol = 2, nrow = length(countries)))\n"
   ]
  },
  {
   "cell_type": "code",
   "execution_count": 3,
   "metadata": {},
   "outputs": [],
   "source": [
    "rownames(LSTM.MAPE) <- countries\n",
    "rownames(ARIMA.MAPE) <- countries"
   ]
  },
  {
   "cell_type": "code",
   "execution_count": 4,
   "metadata": {},
   "outputs": [],
   "source": [
    "colnames(LSTM.MAPE) <- c(\"Seq_Test_MAPE_Case\",\"Bi_Test_MAPE_Case\",\"Seq_Test_MAPE_Dead\",\"Bi_Test_MAPE_Dead\")\n",
    "colnames(ARIMA.MAPE) <- c(\"Test_MAPE_Cases\",\"Test_MAPE_Deaths\")"
   ]
  },
  {
   "cell_type": "code",
   "execution_count": 9,
   "metadata": {},
   "outputs": [],
   "source": [
    "LSTM.MAPE$Seq_Test_MAPE_Case <- c(24.50,11.25,89.88,44.39,20.57,25.99,9.91,21.15,95.27,18.97,7.41)\n",
    "LSTM.MAPE$Bi_Test_MAPE_Case <- c(27.19,11.84,69.11,33.36,19.56,17.04,26.48,21.23,75.00,7.78,7.63)\n",
    "LSTM.MAPE$Seq_Test_MAPE_Dead <- c(26.15,10.53,101.88,44.22,16.09,25.95,6.28,24.15,93.08,11.97,5.71)\n",
    "LSTM.MAPE$Bi_Test_MAPE_Dead <- c(21.74,11.05,111.89,33.53,13.19,20.01,26.06,24.07,77.91,18.77,7.15)\n",
    "ARIMA.MAPE$Test_MAPE_Cases <- c(35.91,19.90,51.09,32.61,6.76,40.96,41.06,NaN,34.00,35.05,27.27)\n",
    "ARIMA.MAPE$Test_MAPE_Deaths <- c(37.63,16.14,7.45,27.21,15.58,NaN,27.04,5.54,26.75,34.29,23.94)"
   ]
  },
  {
   "cell_type": "code",
   "execution_count": 16,
   "metadata": {},
   "outputs": [
    {
     "data": {
      "text/plain": [
       " Seq_Test_MAPE_Case Bi_Test_MAPE_Case Seq_Test_MAPE_Dead Bi_Test_MAPE_Dead\n",
       " Min.   : 7.41      Min.   : 7.63     Min.   :  5.71     Min.   :  7.15   \n",
       " 1st Qu.:15.11      1st Qu.:14.44     1st Qu.: 11.25     1st Qu.: 15.98   \n",
       " Median :21.15      Median :21.23     Median : 24.15     Median : 21.74   \n",
       " Mean   :33.57      Mean   :28.75     Mean   : 33.27     Mean   : 33.22   \n",
       " 3rd Qu.:35.19      3rd Qu.:30.27     3rd Qu.: 35.19     3rd Qu.: 29.80   \n",
       " Max.   :95.27      Max.   :75.00     Max.   :101.88     Max.   :111.89   "
      ]
     },
     "metadata": {},
     "output_type": "display_data"
    }
   ],
   "source": [
    "summary(LSTM.MAPE)"
   ]
  },
  {
   "cell_type": "code",
   "execution_count": 13,
   "metadata": {},
   "outputs": [
    {
     "data": {
      "text/plain": [
       " Test_MAPE_Cases Test_MAPE_Deaths\n",
       " Min.   : 6.76   Min.   : 5.54   \n",
       " 1st Qu.:28.61   1st Qu.:15.72   \n",
       " Median :34.52   Median :25.34   \n",
       " Mean   :32.46   Mean   :22.16   \n",
       " 3rd Qu.:39.70   3rd Qu.:27.17   \n",
       " Max.   :51.09   Max.   :37.63   \n",
       " NA's   :1       NA's   :1       "
      ]
     },
     "metadata": {},
     "output_type": "display_data"
    }
   ],
   "source": [
    "summary(ARIMA.MAPE)"
   ]
  },
  {
   "cell_type": "code",
   "execution_count": 18,
   "metadata": {},
   "outputs": [
    {
     "data": {
      "text/html": [
       "33.42"
      ],
      "text/latex": [
       "33.42"
      ],
      "text/markdown": [
       "33.42"
      ],
      "text/plain": [
       "[1] 33.42"
      ]
     },
     "metadata": {},
     "output_type": "display_data"
    },
    {
     "data": {
      "text/html": [
       "30.985"
      ],
      "text/latex": [
       "30.985"
      ],
      "text/markdown": [
       "30.985"
      ],
      "text/plain": [
       "[1] 30.985"
      ]
     },
     "metadata": {},
     "output_type": "display_data"
    }
   ],
   "source": [
    "mean(c(33.57,33.27))\n",
    "mean(c(28.75,33.22))"
   ]
  },
  {
   "cell_type": "code",
   "execution_count": null,
   "metadata": {},
   "outputs": [],
   "source": []
  }
 ],
 "metadata": {
  "kernelspec": {
   "display_name": "R",
   "language": "R",
   "name": "ir"
  },
  "language_info": {
   "codemirror_mode": "r",
   "file_extension": ".r",
   "mimetype": "text/x-r-source",
   "name": "R",
   "pygments_lexer": "r",
   "version": "3.4.0"
  }
 },
 "nbformat": 4,
 "nbformat_minor": 4
}
