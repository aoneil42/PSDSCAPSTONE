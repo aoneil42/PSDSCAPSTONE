{
 "cells": [
  {
   "cell_type": "code",
   "execution_count": 1,
   "metadata": {},
   "outputs": [
    {
     "name": "stderr",
     "output_type": "stream",
     "text": [
      "Loading required package: zoo\n",
      "\n",
      "Attaching package: 'zoo'\n",
      "\n",
      "The following objects are masked from 'package:base':\n",
      "\n",
      "    as.Date, as.Date.numeric\n",
      "\n"
     ]
    }
   ],
   "source": [
    "library(xts)\n",
    "library(TTR)\n",
    "library(stringr)\n",
    "library(ggplot2)"
   ]
  },
  {
   "cell_type": "code",
   "execution_count": 2,
   "metadata": {},
   "outputs": [],
   "source": [
    "#Set Johns Hopkins github data urls\n",
    "COVIDRecovered <- \"https://raw.githubusercontent.com/CSSEGISandData/COVID-19/master/csse_covid_19_data/csse_covid_19_time_series/time_series_covid19_recovered_global.csv\"\n",
    "COVIDDeaths <- \"https://raw.githubusercontent.com/CSSEGISandData/COVID-19/master/csse_covid_19_data/csse_covid_19_time_series/time_series_covid19_deaths_global.csv\"\n",
    "COVIDConfirmed <- \"https://raw.githubusercontent.com/CSSEGISandData/COVID-19/master/csse_covid_19_data/csse_covid_19_time_series/time_series_covid19_confirmed_global.csv\"\n",
    "COVIDUSConfirmed <- \"https://raw.githubusercontent.com/CSSEGISandData/COVID-19/master/csse_covid_19_data/csse_covid_19_time_series/time_series_covid19_confirmed_US.csv\"\n",
    "COVIDUSDeaths <- \"https://raw.githubusercontent.com/CSSEGISandData/COVID-19/master/csse_covid_19_data/csse_covid_19_time_series/time_series_covid19_deaths_US.csv\"\n",
    "\n",
    "#Import raw data into data tables\n",
    "Confirmed <- read.csv(url(COVIDConfirmed),check.names=FALSE)\n",
    "Deaths <- read.csv(url(COVIDDeaths),check.names=FALSE)\n",
    "Recovered <- read.csv(url(COVIDRecovered),check.names=FALSE)\n",
    "USConfirmed <- read.csv(url(COVIDUSConfirmed),check.names=FALSE)\n",
    "USDeaths <- read.csv(url(COVIDUSDeaths),check.names=FALSE)\n",
    "\n",
    "#Read US metro areas and aggregate counties\n",
    "CBSA <- read.csv(\"CBSA_2020.csv\")\n",
    "\n",
    "CBSA$FIPS <- as.numeric(paste0(str_pad(CBSA$FIPS.State.Code,2,pad=\"0\"),\n",
    "                               str_pad(CBSA$FIPS.County.Code, 3, pad = \"0\")))\n",
    "\n",
    "CBSAConf.df <- aggregate(. ~ CBSA.Title, merge(CBSA,USConfirmed), sum, na.rm=TRUE)[,-c(2:18)]\n",
    "CBSADeath.df <- aggregate(. ~ CBSA.Title, merge(CBSA,USDeaths), sum, na.rm=TRUE)[,-c(2:19)]\n",
    "\n",
    "colnames(Confirmed)[2] <- c(\"Country\")\n",
    "colnames(Deaths)[2] <- c(\"Country\")\n",
    "Confirmed <- aggregate(. ~ Country, Confirmed[-c(1,3,4)], sum, na.rm=TRUE)\n",
    "Deaths <- aggregate(. ~ Country, Deaths[-c(1,3,4)], sum, na.rm=TRUE)\n",
    "Confirmed$Country <- as.character(Confirmed$Country)\n",
    "Deaths$Country <- as.character(Deaths$Country)"
   ]
  },
  {
   "cell_type": "code",
   "execution_count": 3,
   "metadata": {},
   "outputs": [],
   "source": [
    "countries.selected <- read.csv(\"countries.selected.csv\",as.is = c(TRUE, FALSE))"
   ]
  },
  {
   "cell_type": "code",
   "execution_count": 4,
   "metadata": {},
   "outputs": [],
   "source": [
    "Confirmed[Confirmed$Country == \"US\",]$Country <- c(\"United States\")\n",
    "Confirmed[Confirmed$Country == \"China\",]$Country <- c(\"China (People's Republic of)\")\n",
    "Confirmed[Confirmed$Country == \"Korea, South\",]$Country <- c(\"Korea\")\n",
    "Confirmed[Confirmed$Country == \"Czechia\",]$Country <- c(\"Czech Republic\")\n",
    "Deaths[Deaths$Country == \"US\",]$Country <- c(\"United States\")\n",
    "Deaths[Deaths$Country == \"China\",]$Country <- c(\"China (People's Republic of)\")\n",
    "Deaths[Deaths$Country == \"Korea, South\",]$Country <- c(\"Korea\")\n",
    "Deaths[Deaths$Country == \"Czechia\",]$Country <- c(\"Czech Republic\")"
   ]
  },
  {
   "cell_type": "code",
   "execution_count": null,
   "metadata": {},
   "outputs": [],
   "source": []
  },
  {
   "cell_type": "code",
   "execution_count": 5,
   "metadata": {},
   "outputs": [],
   "source": [
    "case.out <- Confirmed[Confirmed$Country %in% countries.selected$Country,]\n",
    "death.out <- Deaths[Deaths$Country %in% countries.selected$Country,]\n",
    "case.out.pop <- merge(case.out, countries.selected, by = \"Country\")\n",
    "death.out.pop <- merge(death.out, countries.selected, by = \"Country\")"
   ]
  },
  {
   "cell_type": "code",
   "execution_count": 6,
   "metadata": {},
   "outputs": [],
   "source": [
    "txfunc <- function(a,d=TRUE,per=7) {\n",
    "    rownames(a) <- a[,1]\n",
    "    a <- a[,-1]\n",
    "    for (i in 1:(ncol(a)-1)) {\n",
    "        a[,i] <- (a[,i]/a$Population2018)*100000\n",
    "    }\n",
    "    x <- t(a[,-1])\n",
    "    xdf <- as.data.frame(x[-1,])\n",
    "    xdf$Date <- as.Date(rownames(xdf), format = \"%m/%e/%y\")\n",
    "    xdf <- xdf[,c(ncol(xdf),1:(ncol(xdf)-1))]\n",
    "    xdf[,-1] <- lapply(xdf[,-1], function(x) {as.numeric(as.character(x))})\n",
    "    xdf.xts <- xts(xdf[,-1], order.by=xdf[,1])\n",
    "    xdf.xts.diff <- diff(xdf.xts)\n",
    "    xdf.xts.diff <- xdf.xts.diff[!is.na(index(xdf.xts.diff))]\n",
    "    xdf.xts.diff.sma <- as.xts(do.call(cbind,(lapply(xdf.xts.diff, SMA, per))))\n",
    "    names(xdf.xts.diff.sma) <- names(xdf.xts.diff)\n",
    "    if (d == TRUE) {return(xdf.xts.diff.sma[-c(1:per),])}\n",
    "    else {return(xdf.xts)}\n",
    "}"
   ]
  },
  {
   "cell_type": "code",
   "execution_count": 7,
   "metadata": {},
   "outputs": [],
   "source": [
    "case.out.pop.diff <- txfunc(case.out.pop)\n",
    "death.out.pop.diff <- txfunc(death.out.pop)\n",
    "write.csv(as.data.frame(case.out.pop.diff), \"casediff.csv\")\n",
    "write.csv(as.data.frame(death.out.pop.diff), \"deathdiff.csv\")"
   ]
  },
  {
   "cell_type": "code",
   "execution_count": null,
   "metadata": {},
   "outputs": [],
   "source": []
  },
  {
   "cell_type": "code",
   "execution_count": null,
   "metadata": {},
   "outputs": [],
   "source": []
  }
 ],
 "metadata": {
  "kernelspec": {
   "display_name": "R",
   "language": "R",
   "name": "ir"
  },
  "language_info": {
   "codemirror_mode": "r",
   "file_extension": ".r",
   "mimetype": "text/x-r-source",
   "name": "R",
   "pygments_lexer": "r",
   "version": "3.4.0"
  }
 },
 "nbformat": 4,
 "nbformat_minor": 4
}
