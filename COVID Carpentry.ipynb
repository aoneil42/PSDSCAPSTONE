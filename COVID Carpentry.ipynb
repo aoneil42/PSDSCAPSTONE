{
 "cells": [
  {
   "cell_type": "code",
   "execution_count": 3,
   "metadata": {},
   "outputs": [],
   "source": [
    "library(xts)\n",
    "library(TTR)\n",
    "library(stringr)"
   ]
  },
  {
   "cell_type": "code",
   "execution_count": 4,
   "metadata": {},
   "outputs": [],
   "source": [
    "#Set Johns Hopkins github data urls\n",
    "COVIDRecovered <- \"https://raw.githubusercontent.com/CSSEGISandData/COVID-19/master/csse_covid_19_data/csse_covid_19_time_series/time_series_covid19_recovered_global.csv\"\n",
    "COVIDDeaths <- \"https://raw.githubusercontent.com/CSSEGISandData/COVID-19/master/csse_covid_19_data/csse_covid_19_time_series/time_series_covid19_deaths_global.csv\"\n",
    "COVIDConfirmed <- \"https://raw.githubusercontent.com/CSSEGISandData/COVID-19/master/csse_covid_19_data/csse_covid_19_time_series/time_series_covid19_confirmed_global.csv\"\n",
    "COVIDUSConfirmed <- \"https://raw.githubusercontent.com/CSSEGISandData/COVID-19/master/csse_covid_19_data/csse_covid_19_time_series/time_series_covid19_confirmed_US.csv\"\n",
    "COVIDUSDeaths <- \"https://raw.githubusercontent.com/CSSEGISandData/COVID-19/master/csse_covid_19_data/csse_covid_19_time_series/time_series_covid19_deaths_US.csv\"\n",
    "\n",
    "#Import raw data into data tables\n",
    "Confirmed <- read.csv(url(COVIDConfirmed),check.names=FALSE)\n",
    "Deaths <- read.csv(url(COVIDDeaths),check.names=FALSE)\n",
    "Recovered <- read.csv(url(COVIDRecovered),check.names=FALSE)\n",
    "USConfirmed <- read.csv(url(COVIDUSConfirmed),check.names=FALSE)\n",
    "USDeaths <- read.csv(url(COVIDUSDeaths),check.names=FALSE)\n",
    "\n",
    "#Read US metro areas and aggregate counties\n",
    "CBSA <- read.csv(\"CBSA_2020.csv\")\n",
    "\n",
    "CBSA$FIPS <- as.numeric(paste0(str_pad(CBSA$FIPS.State.Code,2,pad=\"0\"),\n",
    "                               str_pad(CBSA$FIPS.County.Code, 3, pad = \"0\")))\n",
    "\n",
    "CBSAConf.df <- aggregate(. ~ CBSA.Title, merge(CBSA,USConfirmed), sum)[,-c(2:18)]\n",
    "CBSADeath.df <- aggregate(. ~ CBSA.Title, merge(CBSA,USDeaths), sum)[,-c(2:19)]"
   ]
  },
  {
   "cell_type": "code",
   "execution_count": 5,
   "metadata": {},
   "outputs": [],
   "source": [
    "colnames(Confirmed)[2] <- c(\"Country\")\n",
    "colnames(Deaths)[2] <- c(\"Country\")\n",
    "World_conf <- t(aggregate(. ~ Country, Confirmed[-c(1,3,4)], sum))\n",
    "World_death <- t(aggregate(. ~ Country, Deaths[-c(1,3,4)], sum))\n",
    "colnames(World_death) <- World_death[1,]\n",
    "colnames(World_conf) <- World_conf[1,]\n",
    "World_conf_df <- as.data.frame(World_conf[-1,])\n",
    "World_conf_df$Date <- as.Date(rownames(World_conf_df), format = \"%m/%e/%y\")\n",
    "World_conf_df <- World_conf_df[,c(ncol(World_conf_df),1:(ncol(World_conf_df)-1))]\n",
    "World_conf_df[,-1] <- lapply(World_conf_df[,-1], function(x) {as.numeric(as.character(x))})\n",
    "World_conf_xts <- xts(World_conf_df[,-1], order.by=World_conf_df[,1])\n",
    "World_death_df <- as.data.frame(World_death[-1,])\n",
    "World_death_df$Date <- as.Date(rownames(World_death_df), format = \"%m/%e/%y\")\n",
    "World_death_df <- World_death_df[,c(ncol(World_death_df),1:(ncol(World_death_df)-1))]\n",
    "World_death_df[,-1] <- lapply(World_death_df[,-1], function(x) {as.numeric(as.character(x))})\n",
    "World_death_xts <- xts(World_death_df[,-1], order.by=World_death_df[,1])"
   ]
  },
  {
   "cell_type": "code",
   "execution_count": 6,
   "metadata": {},
   "outputs": [],
   "source": [
    "World_conf_Q2_2020 <- data.frame(t(diff(World_conf_xts[c(\"2020-01-22\",\"2020-03-31\",\"2020-06-30\",\"2020-09-30\")])[2:3]))\n",
    "World_conf_Q3_2020 <- data.frame(t(diff(World_conf_xts[c(\"2020-01-22\",\"2020-03-31\",\"2020-06-30\",\"2020-09-30\")])[2:4]))\n",
    "World_death_Q2_2020 <- data.frame(t(diff(World_death_xts[c(\"2020-01-22\",\"2020-03-31\",\"2020-06-30\",\"2020-09-30\")])[2:3]))\n",
    "World_death_Q3_2020 <- data.frame(t(diff(World_death_xts[c(\"2020-01-22\",\"2020-03-31\",\"2020-06-30\",\"2020-09-30\")])[2:4]))"
   ]
  },
  {
   "cell_type": "code",
   "execution_count": null,
   "metadata": {},
   "outputs": [],
   "source": []
  },
  {
   "cell_type": "code",
   "execution_count": 7,
   "metadata": {},
   "outputs": [],
   "source": [
    "colnames(World_conf_Q3_2020) <- c(\"Q1_case_change\", \"Q2_case_change\", \"Q3_case_change\")\n",
    "colnames(World_death_Q3_2020) <- c(\"Q1_death_change\", \"Q2_death_change\", \"Q3_death_change\")\n",
    "World_conf_Q3_2020 <- cbind(Country = rownames(World_conf_Q3_2020), World_conf_Q3_2020)\n",
    "World_death_Q3_2020 <- cbind(Country = rownames(World_death_Q3_2020), World_death_Q3_2020)"
   ]
  },
  {
   "cell_type": "code",
   "execution_count": 8,
   "metadata": {},
   "outputs": [],
   "source": [
    "World_total_quarterly <- merge(World_conf_Q3_2020, World_death_Q3_2020, by=\"Country\")"
   ]
  },
  {
   "cell_type": "code",
   "execution_count": 9,
   "metadata": {},
   "outputs": [],
   "source": [
    "write.csv(World_total_quarterly, \"COVID_Q3_totals.csv\")"
   ]
  },
  {
   "cell_type": "code",
   "execution_count": 10,
   "metadata": {},
   "outputs": [],
   "source": [
    "popden <- read.csv(\"PopulationDensity2018.csv\",stringsAsFactors=FALSE)[,-c(1)]\n",
    "popden[,2] <- as.numeric(popden[,2])\n",
    "colnames(popden) <- c(\"Country\",\"Density2018\")\n",
    "popurb <- read.csv(\"PopulationUrbanPercent2018.csv\",stringsAsFactors=FALSE)[,-c(1)]\n",
    "popurb[,2] <- as.numeric(popurb[,2])\n",
    "colnames(popurb) <- c(\"Country\",\"Urban2018\")\n",
    "poptot <- read.csv(\"PopulationTotal2018.csv\",stringsAsFactors=FALSE)[,-c(1)]\n",
    "poptot[,2] <- as.numeric(poptot[,2])\n",
    "colnames(poptot) <- c(\"Country\",\"Population2018\")"
   ]
  },
  {
   "cell_type": "code",
   "execution_count": 11,
   "metadata": {},
   "outputs": [],
   "source": [
    "World_conf_Q3_2020_raw <- data.frame(t(World_conf_xts[c(\"2020-01-22\",\"2020-03-31\",\"2020-06-30\",\"2020-09-30\")][2:4]))\n",
    "World_death_Q3_2020_raw <- data.frame(t(World_death_xts[c(\"2020-01-22\",\"2020-03-31\",\"2020-06-30\",\"2020-09-30\")][2:4]))"
   ]
  },
  {
   "cell_type": "code",
   "execution_count": 12,
   "metadata": {},
   "outputs": [],
   "source": [
    "colnames(World_conf_Q3_2020_raw) <- c(\"Q1_2020_cases\", \"Q2_2020_cases\", \"Q3_2020_cases\")\n",
    "World_conf_Q3_2020_raw$Country = rownames(World_conf_Q3_2020_raw)\n",
    "colnames(World_death_Q3_2020_raw) <- c(\"Q1_2020_deaths\", \"Q2_2020_deaths\", \"Q3_2020_deaths\")\n",
    "World_death_Q3_2020_raw$Country = rownames(World_death_Q3_2020_raw)"
   ]
  },
  {
   "cell_type": "code",
   "execution_count": null,
   "metadata": {},
   "outputs": [],
   "source": []
  },
  {
   "cell_type": "code",
   "execution_count": 13,
   "metadata": {},
   "outputs": [],
   "source": [
    "poptot[poptot$Country == \"United States\",]$Country <- c(\"US\")\n",
    "poptot[poptot$Country == \"Bahamas, The\",]$Country <- c(\"Bahamas\")\n",
    "poptot[poptot$Country == \"Brunei Darussalam\",]$Country <- c(\"Brunei\")\n",
    "poptot[poptot$Country == \"Congo, Dem. Rep.\",]$Country <- c(\"Congo (Kinshasa)\")\n",
    "poptot[poptot$Country == \"Congo, Rep.\",]$Country <- c(\"Congo (Brazzaville)\")\n",
    "poptot[poptot$Country == \"Gambia, The\",]$Country <- c(\"Gambia\")\n",
    "poptot[poptot$Country == \"Czech Republic\",]$Country <- c(\"Czechia\")\n",
    "poptot[poptot$Country == \"Egypt, Arab Rep.\",]$Country <- c(\"Egypt\")\n",
    "poptot[poptot$Country == \"Iran, Islamic Rep.\",]$Country <- c(\"Iran\")\n",
    "poptot[poptot$Country == \"Korea, Rep.\",]$Country <- c(\"Korea, South\")\n",
    "poptot[poptot$Country == \"Kyrgyz Republic\",]$Country <- c(\"Kyrgyzstan\")\n",
    "poptot[poptot$Country == \"Lao PDR\",]$Country <- c(\"Laos\")\n",
    "poptot[poptot$Country == \"Russian Federation\",]$Country <- c(\"Russia\")\n",
    "poptot[poptot$Country == \"Slovak Republic\",]$Country <- c(\"Slovakia\")\n",
    "poptot[poptot$Country == \"Syrian Arab Republic\",]$Country <- c(\"Syria\")\n",
    "poptot[poptot$Country == \"Yemen, Rep.\",]$Country <- c(\"Yemen\")\n",
    "poptot[poptot$Country == \"Venezuela, RB\",]$Country <- c(\"Venezuela\")\n",
    "\n",
    "popurb[popurb$Country == \"United States\",]$Country <- c(\"US\")\n",
    "popurb[popurb$Country == \"Bahamas, The\",]$Country <- c(\"Bahamas\")\n",
    "popurb[popurb$Country == \"Brunei Darussalam\",]$Country <- c(\"Brunei\")\n",
    "popurb[popurb$Country == \"Congo, Dem. Rep.\",]$Country <- c(\"Congo (Kinshasa)\")\n",
    "popurb[popurb$Country == \"Congo, Rep.\",]$Country <- c(\"Congo (Brazzaville)\")\n",
    "popurb[popurb$Country == \"Gambia, The\",]$Country <- c(\"Gambia\")\n",
    "popurb[popurb$Country == \"Czech Republic\",]$Country <- c(\"Czechia\")\n",
    "popurb[popurb$Country == \"Egypt, Arab Rep.\",]$Country <- c(\"Egypt\")\n",
    "popurb[popurb$Country == \"Iran, Islamic Rep.\",]$Country <- c(\"Iran\")\n",
    "popurb[popurb$Country == \"Korea, Rep.\",]$Country <- c(\"Korea, South\")\n",
    "popurb[popurb$Country == \"Kyrgyz Republic\",]$Country <- c(\"Kyrgyzstan\")\n",
    "popurb[popurb$Country == \"Lao PDR\",]$Country <- c(\"Laos\")\n",
    "popurb[popurb$Country == \"Russian Federation\",]$Country <- c(\"Russia\")\n",
    "popurb[popurb$Country == \"Slovak Republic\",]$Country <- c(\"Slovakia\")\n",
    "popurb[popurb$Country == \"Syrian Arab Republic\",]$Country <- c(\"Syria\")\n",
    "popurb[popurb$Country == \"Yemen, Rep.\",]$Country <- c(\"Yemen\")\n",
    "popurb[popurb$Country == \"Venezuela, RB\",]$Country <- c(\"Venezuela\")\n",
    "\n",
    "popden[popden$Country == \"United States\",]$Country <- c(\"US\")\n",
    "popden[popden$Country == \"Bahamas, The\",]$Country <- c(\"Bahamas\")\n",
    "popden[popden$Country == \"Brunei Darussalam\",]$Country <- c(\"Brunei\")\n",
    "popden[popden$Country == \"Congo, Dem. Rep.\",]$Country <- c(\"Congo (Kinshasa)\")\n",
    "popden[popden$Country == \"Congo, Rep.\",]$Country <- c(\"Congo (Brazzaville)\")\n",
    "popden[popden$Country == \"Gambia, The\",]$Country <- c(\"Gambia\")\n",
    "popden[popden$Country == \"Czech Republic\",]$Country <- c(\"Czechia\")\n",
    "popden[popden$Country == \"Egypt, Arab Rep.\",]$Country <- c(\"Egypt\")\n",
    "popden[popden$Country == \"Iran, Islamic Rep.\",]$Country <- c(\"Iran\")\n",
    "popden[popden$Country == \"Korea, Rep.\",]$Country <- c(\"Korea, South\")\n",
    "popden[popden$Country == \"Kyrgyz Republic\",]$Country <- c(\"Kyrgyzstan\")\n",
    "popden[popden$Country == \"Lao PDR\",]$Country <- c(\"Laos\")\n",
    "popden[popden$Country == \"Russian Federation\",]$Country <- c(\"Russia\")\n",
    "popden[popden$Country == \"Slovak Republic\",]$Country <- c(\"Slovakia\")\n",
    "popden[popden$Country == \"Syrian Arab Republic\",]$Country <- c(\"Syria\")\n",
    "popden[popden$Country == \"Yemen, Rep.\",]$Country <- c(\"Yemen\")\n",
    "popden[popden$Country == \"Venezuela, RB\",]$Country <- c(\"Venezuela\")"
   ]
  },
  {
   "cell_type": "code",
   "execution_count": 14,
   "metadata": {},
   "outputs": [],
   "source": [
    "conf_poptot <- merge(World_conf_Q3_2020_raw,poptot,by=\"Country\")\n",
    "\n",
    "death_poptot <- merge(World_death_Q3_2020_raw,poptot,by=\"Country\")\n"
   ]
  },
  {
   "cell_type": "code",
   "execution_count": 15,
   "metadata": {},
   "outputs": [
    {
     "data": {
      "text/html": [
       "<table>\n",
       "<thead><tr><th scope=col>Country</th><th scope=col>Q1_2020_cases</th><th scope=col>Q2_2020_cases</th><th scope=col>Q3_2020_cases</th><th scope=col>Population2018</th></tr></thead>\n",
       "<tbody>\n",
       "\t<tr><td>Afghanistan        </td><td>175                </td><td>31507              </td><td>39268              </td><td>37172386           </td></tr>\n",
       "\t<tr><td>Albania            </td><td>243                </td><td> 2535              </td><td>13649              </td><td> 2866376           </td></tr>\n",
       "\t<tr><td>Algeria            </td><td>716                </td><td>13907              </td><td>51530              </td><td>42228429           </td></tr>\n",
       "\t<tr><td>Andorra            </td><td>376                </td><td>  855              </td><td> 2050              </td><td>   77006           </td></tr>\n",
       "\t<tr><td>Angola             </td><td>  7                </td><td>  284              </td><td> 4972              </td><td>30809762           </td></tr>\n",
       "\t<tr><td>Antigua and Barbuda</td><td>  7                </td><td>   69              </td><td>  101              </td><td>   96286           </td></tr>\n",
       "</tbody>\n",
       "</table>\n"
      ],
      "text/latex": [
       "\\begin{tabular}{r|lllll}\n",
       " Country & Q1\\_2020\\_cases & Q2\\_2020\\_cases & Q3\\_2020\\_cases & Population2018\\\\\n",
       "\\hline\n",
       "\t Afghanistan         & 175                 & 31507               & 39268               & 37172386           \\\\\n",
       "\t Albania             & 243                 &  2535               & 13649               &  2866376           \\\\\n",
       "\t Algeria             & 716                 & 13907               & 51530               & 42228429           \\\\\n",
       "\t Andorra             & 376                 &   855               &  2050               &    77006           \\\\\n",
       "\t Angola              &   7                 &   284               &  4972               & 30809762           \\\\\n",
       "\t Antigua and Barbuda &   7                 &    69               &   101               &    96286           \\\\\n",
       "\\end{tabular}\n"
      ],
      "text/markdown": [
       "\n",
       "Country | Q1_2020_cases | Q2_2020_cases | Q3_2020_cases | Population2018 | \n",
       "|---|---|---|---|---|---|\n",
       "| Afghanistan         | 175                 | 31507               | 39268               | 37172386            | \n",
       "| Albania             | 243                 |  2535               | 13649               |  2866376            | \n",
       "| Algeria             | 716                 | 13907               | 51530               | 42228429            | \n",
       "| Andorra             | 376                 |   855               |  2050               |    77006            | \n",
       "| Angola              |   7                 |   284               |  4972               | 30809762            | \n",
       "| Antigua and Barbuda |   7                 |    69               |   101               |    96286            | \n",
       "\n",
       "\n"
      ],
      "text/plain": [
       "  Country             Q1_2020_cases Q2_2020_cases Q3_2020_cases Population2018\n",
       "1 Afghanistan         175           31507         39268         37172386      \n",
       "2 Albania             243            2535         13649          2866376      \n",
       "3 Algeria             716           13907         51530         42228429      \n",
       "4 Andorra             376             855          2050            77006      \n",
       "5 Angola                7             284          4972         30809762      \n",
       "6 Antigua and Barbuda   7              69           101            96286      "
      ]
     },
     "metadata": {},
     "output_type": "display_data"
    }
   ],
   "source": [
    "head(conf_poptot)"
   ]
  },
  {
   "cell_type": "code",
   "execution_count": 16,
   "metadata": {},
   "outputs": [],
   "source": [
    "for (i in 2:4) {\n",
    "    conf_poptot[,paste0(\"Q\",i-1,\"rate100k\",\"cases\")] <- (conf_poptot[,i]/conf_poptot$Population2018)*100000\n",
    "    death_poptot[,paste0(\"Q\",i-1,\"rate100k\",\"deaths\")] <- (death_poptot[,i]/death_poptot$Population2018)*100000\n",
    "}"
   ]
  },
  {
   "cell_type": "code",
   "execution_count": 17,
   "metadata": {},
   "outputs": [],
   "source": [
    "COVID_Totals_Demo <- merge(conf_poptot[,-5], death_poptot[,-5], by=\"Country\")\n",
    "COVID_Totals_Demo <- merge(COVID_Totals_Demo,poptot,by=\"Country\")\n",
    "COVID_Totals_Demo <- merge(COVID_Totals_Demo,popden,by=\"Country\")\n",
    "COVID_Totals_Demo <- merge(COVID_Totals_Demo,popurb,by=\"Country\")"
   ]
  },
  {
   "cell_type": "code",
   "execution_count": 18,
   "metadata": {
    "scrolled": true
   },
   "outputs": [
    {
     "data": {
      "text/html": [
       "<table>\n",
       "<thead><tr><th scope=col>Country</th><th scope=col>Q1_2020_cases</th><th scope=col>Q2_2020_cases</th><th scope=col>Q3_2020_cases</th><th scope=col>Q1rate100kcases</th><th scope=col>Q2rate100kcases</th><th scope=col>Q3rate100kcases</th><th scope=col>Q1_2020_deaths</th><th scope=col>Q2_2020_deaths</th><th scope=col>Q3_2020_deaths</th><th scope=col>Q1rate100kdeaths</th><th scope=col>Q2rate100kdeaths</th><th scope=col>Q3rate100kdeaths</th><th scope=col>Population2018</th><th scope=col>Density2018</th><th scope=col>Urban2018</th></tr></thead>\n",
       "<tbody>\n",
       "\t<tr><td>Afghanistan        </td><td>175                </td><td>31507              </td><td>39268              </td><td>  0.47077957       </td><td>  84.7591543       </td><td> 105.63756         </td><td> 4                 </td><td>752                </td><td>1460               </td><td> 0.010760676       </td><td> 2.02300708        </td><td> 3.9276467         </td><td>37172386           </td><td> 56.93776          </td><td>25.495             </td></tr>\n",
       "\t<tr><td>Albania            </td><td>243                </td><td> 2535              </td><td>13649              </td><td>  8.47760378       </td><td>  88.4391999       </td><td> 476.17619         </td><td>15                 </td><td> 62                </td><td> 387               </td><td> 0.523308875       </td><td> 2.16301002        </td><td>13.5013690         </td><td> 2866376           </td><td>104.61226          </td><td>60.319             </td></tr>\n",
       "\t<tr><td>Algeria            </td><td>716                </td><td>13907              </td><td>51530              </td><td>  1.69554022       </td><td>  32.9327904       </td><td> 122.02680         </td><td>44                 </td><td>912                </td><td>1736               </td><td> 0.104195209       </td><td> 2.15968252        </td><td> 4.1109746         </td><td>42228429           </td><td> 17.73008          </td><td>72.629             </td></tr>\n",
       "\t<tr><td>Andorra            </td><td>376                </td><td>  855              </td><td> 2050              </td><td>488.27364101       </td><td>1110.3030933       </td><td>2662.13022         </td><td>12                 </td><td> 52                </td><td>  53               </td><td>15.583201309       </td><td>67.52720567        </td><td>68.8258058         </td><td>   77006           </td><td>163.84255          </td><td>88.062             </td></tr>\n",
       "\t<tr><td>Angola             </td><td>  7                </td><td>  284              </td><td> 4972              </td><td>  0.02272007       </td><td>   0.9217858       </td><td>  16.13774         </td><td> 2                 </td><td> 13                </td><td> 183               </td><td> 0.006491449       </td><td> 0.04219442        </td><td> 0.5939676         </td><td>30809762           </td><td> 24.71305          </td><td>65.514             </td></tr>\n",
       "\t<tr><td>Antigua and Barbuda</td><td>  7                </td><td>   69              </td><td>  101              </td><td>  7.27000810       </td><td>  71.6615084       </td><td> 104.89583         </td><td> 0                 </td><td>  3                </td><td>   3               </td><td> 0.000000000       </td><td> 3.11571776        </td><td> 3.1157178         </td><td>   96286           </td><td>218.83182          </td><td>24.599             </td></tr>\n",
       "</tbody>\n",
       "</table>\n"
      ],
      "text/latex": [
       "\\begin{tabular}{r|llllllllllllllll}\n",
       " Country & Q1\\_2020\\_cases & Q2\\_2020\\_cases & Q3\\_2020\\_cases & Q1rate100kcases & Q2rate100kcases & Q3rate100kcases & Q1\\_2020\\_deaths & Q2\\_2020\\_deaths & Q3\\_2020\\_deaths & Q1rate100kdeaths & Q2rate100kdeaths & Q3rate100kdeaths & Population2018 & Density2018 & Urban2018\\\\\n",
       "\\hline\n",
       "\t Afghanistan         & 175                 & 31507               & 39268               &   0.47077957        &   84.7591543        &  105.63756          &  4                  & 752                 & 1460                &  0.010760676        &  2.02300708         &  3.9276467          & 37172386            &  56.93776           & 25.495             \\\\\n",
       "\t Albania             & 243                 &  2535               & 13649               &   8.47760378        &   88.4391999        &  476.17619          & 15                  &  62                 &  387                &  0.523308875        &  2.16301002         & 13.5013690          &  2866376            & 104.61226           & 60.319             \\\\\n",
       "\t Algeria             & 716                 & 13907               & 51530               &   1.69554022        &   32.9327904        &  122.02680          & 44                  & 912                 & 1736                &  0.104195209        &  2.15968252         &  4.1109746          & 42228429            &  17.73008           & 72.629             \\\\\n",
       "\t Andorra             & 376                 &   855               &  2050               & 488.27364101        & 1110.3030933        & 2662.13022          & 12                  &  52                 &   53                & 15.583201309        & 67.52720567         & 68.8258058          &    77006            & 163.84255           & 88.062             \\\\\n",
       "\t Angola              &   7                 &   284               &  4972               &   0.02272007        &    0.9217858        &   16.13774          &  2                  &  13                 &  183                &  0.006491449        &  0.04219442         &  0.5939676          & 30809762            &  24.71305           & 65.514             \\\\\n",
       "\t Antigua and Barbuda &   7                 &    69               &   101               &   7.27000810        &   71.6615084        &  104.89583          &  0                  &   3                 &    3                &  0.000000000        &  3.11571776         &  3.1157178          &    96286            & 218.83182           & 24.599             \\\\\n",
       "\\end{tabular}\n"
      ],
      "text/markdown": [
       "\n",
       "Country | Q1_2020_cases | Q2_2020_cases | Q3_2020_cases | Q1rate100kcases | Q2rate100kcases | Q3rate100kcases | Q1_2020_deaths | Q2_2020_deaths | Q3_2020_deaths | Q1rate100kdeaths | Q2rate100kdeaths | Q3rate100kdeaths | Population2018 | Density2018 | Urban2018 | \n",
       "|---|---|---|---|---|---|\n",
       "| Afghanistan         | 175                 | 31507               | 39268               |   0.47077957        |   84.7591543        |  105.63756          |  4                  | 752                 | 1460                |  0.010760676        |  2.02300708         |  3.9276467          | 37172386            |  56.93776           | 25.495              | \n",
       "| Albania             | 243                 |  2535               | 13649               |   8.47760378        |   88.4391999        |  476.17619          | 15                  |  62                 |  387                |  0.523308875        |  2.16301002         | 13.5013690          |  2866376            | 104.61226           | 60.319              | \n",
       "| Algeria             | 716                 | 13907               | 51530               |   1.69554022        |   32.9327904        |  122.02680          | 44                  | 912                 | 1736                |  0.104195209        |  2.15968252         |  4.1109746          | 42228429            |  17.73008           | 72.629              | \n",
       "| Andorra             | 376                 |   855               |  2050               | 488.27364101        | 1110.3030933        | 2662.13022          | 12                  |  52                 |   53                | 15.583201309        | 67.52720567         | 68.8258058          |    77006            | 163.84255           | 88.062              | \n",
       "| Angola              |   7                 |   284               |  4972               |   0.02272007        |    0.9217858        |   16.13774          |  2                  |  13                 |  183                |  0.006491449        |  0.04219442         |  0.5939676          | 30809762            |  24.71305           | 65.514              | \n",
       "| Antigua and Barbuda |   7                 |    69               |   101               |   7.27000810        |   71.6615084        |  104.89583          |  0                  |   3                 |    3                |  0.000000000        |  3.11571776         |  3.1157178          |    96286            | 218.83182           | 24.599              | \n",
       "\n",
       "\n"
      ],
      "text/plain": [
       "  Country             Q1_2020_cases Q2_2020_cases Q3_2020_cases Q1rate100kcases\n",
       "1 Afghanistan         175           31507         39268           0.47077957   \n",
       "2 Albania             243            2535         13649           8.47760378   \n",
       "3 Algeria             716           13907         51530           1.69554022   \n",
       "4 Andorra             376             855          2050         488.27364101   \n",
       "5 Angola                7             284          4972           0.02272007   \n",
       "6 Antigua and Barbuda   7              69           101           7.27000810   \n",
       "  Q2rate100kcases Q3rate100kcases Q1_2020_deaths Q2_2020_deaths Q3_2020_deaths\n",
       "1   84.7591543     105.63756       4             752            1460          \n",
       "2   88.4391999     476.17619      15              62             387          \n",
       "3   32.9327904     122.02680      44             912            1736          \n",
       "4 1110.3030933    2662.13022      12              52              53          \n",
       "5    0.9217858      16.13774       2              13             183          \n",
       "6   71.6615084     104.89583       0               3               3          \n",
       "  Q1rate100kdeaths Q2rate100kdeaths Q3rate100kdeaths Population2018 Density2018\n",
       "1  0.010760676      2.02300708       3.9276467       37172386        56.93776  \n",
       "2  0.523308875      2.16301002      13.5013690        2866376       104.61226  \n",
       "3  0.104195209      2.15968252       4.1109746       42228429        17.73008  \n",
       "4 15.583201309     67.52720567      68.8258058          77006       163.84255  \n",
       "5  0.006491449      0.04219442       0.5939676       30809762        24.71305  \n",
       "6  0.000000000      3.11571776       3.1157178          96286       218.83182  \n",
       "  Urban2018\n",
       "1 25.495   \n",
       "2 60.319   \n",
       "3 72.629   \n",
       "4 88.062   \n",
       "5 65.514   \n",
       "6 24.599   "
      ]
     },
     "metadata": {},
     "output_type": "display_data"
    }
   ],
   "source": [
    "head(COVID_Totals_Demo)"
   ]
  },
  {
   "cell_type": "code",
   "execution_count": 19,
   "metadata": {},
   "outputs": [],
   "source": [
    "write.csv(COVID_Totals_Demo, \"COVID_Totals_Demo.csv\")"
   ]
  },
  {
   "cell_type": "code",
   "execution_count": 20,
   "metadata": {},
   "outputs": [],
   "source": [
    "library(ggplot2)"
   ]
  },
  {
   "cell_type": "code",
   "execution_count": 55,
   "metadata": {},
   "outputs": [
    {
     "name": "stderr",
     "output_type": "stream",
     "text": [
      "Warning message:\n",
      "\"Removed 1 rows containing missing values (position_stack).\"Warning message:\n",
      "\"Removed 1 rows containing missing values (geom_bar).\""
     ]
    },
    {
     "data": {},
     "metadata": {},
     "output_type": "display_data"
    },
    {
     "data": {
      "image/png": "[encoded data removed]",
      "text/plain": [
       "plot without title"
      ]
     },
     "metadata": {},
     "output_type": "display_data"
    }
   ],
   "source": [
    "ggplot(COVID_Totals_Demo,aes(x = Country)) +\n",
    "    geom_bar(aes(y = Q2rate100kdeaths), stat=\"identity\") +\n",
    "    geom_bar(aes(y = Q2rate100kcases),stat=\"identity\",position=\"dodge\", width = 0.5)"
   ]
  },
  {
   "cell_type": "code",
   "execution_count": null,
   "metadata": {},
   "outputs": [],
   "source": []
  }
 ],
 "metadata": {
  "kernelspec": {
   "display_name": "R",
   "language": "R",
   "name": "ir"
  },
  "language_info": {
   "codemirror_mode": "r",
   "file_extension": ".r",
   "mimetype": "text/x-r-source",
   "name": "R",
   "pygments_lexer": "r",
   "version": "3.4.0"
  }
 },
 "nbformat": 4,
 "nbformat_minor": 4
}
