{
 "cells": [
  {
   "cell_type": "code",
   "execution_count": 1,
   "metadata": {},
   "outputs": [],
   "source": [
    "popcsv <- read.csv(\"worldbankpop.csv\",stringsAsFactors=FALSE)"
   ]
  },
  {
   "cell_type": "code",
   "execution_count": 2,
   "metadata": {},
   "outputs": [
    {
     "name": "stderr",
     "output_type": "stream",
     "text": [
      "Warning message in lapply(X = X, FUN = FUN, ...):\n",
      "\"NAs introduced by coercion\"Warning message in lapply(X = X, FUN = FUN, ...):\n",
      "\"NAs introduced by coercion\"Warning message in lapply(X = X, FUN = FUN, ...):\n",
      "\"NAs introduced by coercion\"Warning message in lapply(X = X, FUN = FUN, ...):\n",
      "\"NAs introduced by coercion\"Warning message in lapply(X = X, FUN = FUN, ...):\n",
      "\"NAs introduced by coercion\""
     ]
    }
   ],
   "source": [
    "colnames(popcsv) <- c(\"Series\",\"Code\",\"Country\",\"CCode\",\"YR2016\",\"YR2017\",\"YR2018\",\"YR2019\",\"YR2020\")\n",
    "popcsv[,5:9] <- sapply(popcsv[,5:9],as.numeric)"
   ]
  },
  {
   "cell_type": "code",
   "execution_count": 3,
   "metadata": {},
   "outputs": [
    {
     "data": {
      "text/html": [
       "<ol class=list-inline>\n",
       "\t<li>'EN.POP.DNST'</li>\n",
       "\t<li>'SP.URB.TOTL.IN.ZS'</li>\n",
       "\t<li>'SP.POP.TOTL'</li>\n",
       "\t<li>''</li>\n",
       "</ol>\n"
      ],
      "text/latex": [
       "\\begin{enumerate*}\n",
       "\\item 'EN.POP.DNST'\n",
       "\\item 'SP.URB.TOTL.IN.ZS'\n",
       "\\item 'SP.POP.TOTL'\n",
       "\\item ''\n",
       "\\end{enumerate*}\n"
      ],
      "text/markdown": [
       "1. 'EN.POP.DNST'\n",
       "2. 'SP.URB.TOTL.IN.ZS'\n",
       "3. 'SP.POP.TOTL'\n",
       "4. ''\n",
       "\n",
       "\n"
      ],
      "text/plain": [
       "[1] \"EN.POP.DNST\"       \"SP.URB.TOTL.IN.ZS\" \"SP.POP.TOTL\"      \n",
       "[4] \"\"                 "
      ]
     },
     "metadata": {},
     "output_type": "display_data"
    }
   ],
   "source": [
    "unique(popcsv$Code)"
   ]
  },
  {
   "cell_type": "code",
   "execution_count": 4,
   "metadata": {},
   "outputs": [
    {
     "data": {
      "text/plain": [
       "    Series              Code             Country             CCode          \n",
       " Length:656         Length:656         Length:656         Length:656        \n",
       " Class :character   Class :character   Class :character   Class :character  \n",
       " Mode  :character   Mode  :character   Mode  :character   Mode  :character  \n",
       "                                                                            \n",
       "                                                                            \n",
       "                                                                            \n",
       "                                                                            \n",
       "     YR2016              YR2017              YR2018         \n",
       " Min.   :0.000e+00   Min.   :0.000e+00   Min.   :0.000e+00  \n",
       " 1st Qu.:5.500e+01   1st Qu.:5.500e+01   1st Qu.:5.600e+01  \n",
       " Median :1.000e+02   Median :1.000e+02   Median :1.000e+02  \n",
       " Mean   :1.149e+07   Mean   :1.162e+07   Mean   :1.184e+07  \n",
       " 3rd Qu.:7.774e+05   3rd Qu.:7.849e+05   3rd Qu.:8.579e+05  \n",
       " Max.   :1.379e+09   Max.   :1.386e+09   Max.   :1.393e+09  \n",
       " NA's   :12          NA's   :12          NA's   :17         \n",
       "     YR2019              YR2020   \n",
       " Min.   :1.300e+01   Min.   : NA  \n",
       " 1st Qu.:6.300e+01   1st Qu.: NA  \n",
       " Median :5.873e+03   Median : NA  \n",
       " Mean   :1.770e+07   Mean   :NaN  \n",
       " 3rd Qu.:6.603e+06   3rd Qu.: NA  \n",
       " Max.   :1.398e+09   Max.   : NA  \n",
       " NA's   :224         NA's   :656  "
      ]
     },
     "metadata": {},
     "output_type": "display_data"
    }
   ],
   "source": [
    "summary(popcsv)"
   ]
  },
  {
   "cell_type": "code",
   "execution_count": 5,
   "metadata": {},
   "outputs": [],
   "source": [
    "popdens <- popcsv[popcsv$Code == \"EN.POP.DNST\",]\n",
    "popdens <- popdens[,-c(1,2,4,5,6,8,9)]\n",
    "popurb <- popcsv[popcsv$Code == \"SP.URB.TOTL.IN.ZS\",]\n",
    "popurb <- popurb[,-c(1,2,4,5,6,8,9)]\n",
    "poptot <- popcsv[popcsv$Code == \"SP.POP.TOTL\",]\n",
    "poptot <- poptot[,-c(1,2,4,5,6,8,9)]"
   ]
  },
  {
   "cell_type": "code",
   "execution_count": 6,
   "metadata": {},
   "outputs": [
    {
     "data": {
      "text/plain": [
       "     Min.   1st Qu.    Median      Mean   3rd Qu.      Max.      NA's \n",
       "    0.136    37.509    92.056   361.279   219.821 20777.500         8 "
      ]
     },
     "metadata": {},
     "output_type": "display_data"
    },
    {
     "data": {
      "text/html": [
       "<table>\n",
       "<thead><tr><th scope=col>Country</th><th scope=col>YR2018</th></tr></thead>\n",
       "<tbody>\n",
       "\t<tr><td>Afghanistan   </td><td> 56.93776     </td></tr>\n",
       "\t<tr><td>Albania       </td><td>104.61226     </td></tr>\n",
       "\t<tr><td>Algeria       </td><td> 17.73008     </td></tr>\n",
       "\t<tr><td>American Samoa</td><td>277.32500     </td></tr>\n",
       "\t<tr><td>Andorra       </td><td>163.84255     </td></tr>\n",
       "\t<tr><td>Angola        </td><td> 24.71305     </td></tr>\n",
       "</tbody>\n",
       "</table>\n"
      ],
      "text/latex": [
       "\\begin{tabular}{r|ll}\n",
       " Country & YR2018\\\\\n",
       "\\hline\n",
       "\t Afghanistan    &  56.93776     \\\\\n",
       "\t Albania        & 104.61226     \\\\\n",
       "\t Algeria        &  17.73008     \\\\\n",
       "\t American Samoa & 277.32500     \\\\\n",
       "\t Andorra        & 163.84255     \\\\\n",
       "\t Angola         &  24.71305     \\\\\n",
       "\\end{tabular}\n"
      ],
      "text/markdown": [
       "\n",
       "Country | YR2018 | \n",
       "|---|---|---|---|---|---|\n",
       "| Afghanistan    |  56.93776      | \n",
       "| Albania        | 104.61226      | \n",
       "| Algeria        |  17.73008      | \n",
       "| American Samoa | 277.32500      | \n",
       "| Andorra        | 163.84255      | \n",
       "| Angola         |  24.71305      | \n",
       "\n",
       "\n"
      ],
      "text/plain": [
       "  Country        YR2018   \n",
       "1 Afghanistan     56.93776\n",
       "2 Albania        104.61226\n",
       "3 Algeria         17.73008\n",
       "4 American Samoa 277.32500\n",
       "5 Andorra        163.84255\n",
       "6 Angola          24.71305"
      ]
     },
     "metadata": {},
     "output_type": "display_data"
    }
   ],
   "source": [
    "summary(popdens$YR2018)\n",
    "head(popdens)\n",
    "write.csv(popdens, \"PopulationDensity2018.csv\")"
   ]
  },
  {
   "cell_type": "code",
   "execution_count": 7,
   "metadata": {},
   "outputs": [
    {
     "data": {
      "text/plain": [
       "   Min. 1st Qu.  Median    Mean 3rd Qu.    Max.    NA's \n",
       "  13.03   42.14   61.87   60.90   80.41  100.00       3 "
      ]
     },
     "metadata": {},
     "output_type": "display_data"
    },
    {
     "data": {
      "text/html": [
       "<table>\n",
       "<thead><tr><th></th><th scope=col>Country</th><th scope=col>YR2018</th></tr></thead>\n",
       "<tbody>\n",
       "\t<tr><th scope=row>218</th><td>Afghanistan   </td><td>25.495        </td></tr>\n",
       "\t<tr><th scope=row>219</th><td>Albania       </td><td>60.319        </td></tr>\n",
       "\t<tr><th scope=row>220</th><td>Algeria       </td><td>72.629        </td></tr>\n",
       "\t<tr><th scope=row>221</th><td>American Samoa</td><td>87.153        </td></tr>\n",
       "\t<tr><th scope=row>222</th><td>Andorra       </td><td>88.062        </td></tr>\n",
       "\t<tr><th scope=row>223</th><td>Angola        </td><td>65.514        </td></tr>\n",
       "</tbody>\n",
       "</table>\n"
      ],
      "text/latex": [
       "\\begin{tabular}{r|ll}\n",
       "  & Country & YR2018\\\\\n",
       "\\hline\n",
       "\t218 & Afghanistan    & 25.495        \\\\\n",
       "\t219 & Albania        & 60.319        \\\\\n",
       "\t220 & Algeria        & 72.629        \\\\\n",
       "\t221 & American Samoa & 87.153        \\\\\n",
       "\t222 & Andorra        & 88.062        \\\\\n",
       "\t223 & Angola         & 65.514        \\\\\n",
       "\\end{tabular}\n"
      ],
      "text/markdown": [
       "\n",
       "| <!--/--> | Country | YR2018 | \n",
       "|---|---|---|---|---|---|\n",
       "| 218 | Afghanistan    | 25.495         | \n",
       "| 219 | Albania        | 60.319         | \n",
       "| 220 | Algeria        | 72.629         | \n",
       "| 221 | American Samoa | 87.153         | \n",
       "| 222 | Andorra        | 88.062         | \n",
       "| 223 | Angola         | 65.514         | \n",
       "\n",
       "\n"
      ],
      "text/plain": [
       "    Country        YR2018\n",
       "218 Afghanistan    25.495\n",
       "219 Albania        60.319\n",
       "220 Algeria        72.629\n",
       "221 American Samoa 87.153\n",
       "222 Andorra        88.062\n",
       "223 Angola         65.514"
      ]
     },
     "metadata": {},
     "output_type": "display_data"
    }
   ],
   "source": [
    "summary(popurb$YR2018)\n",
    "head(popurb)\n",
    "write.csv(popurb, \"PopulationUrbanPercent2018.csv\")"
   ]
  },
  {
   "cell_type": "code",
   "execution_count": 8,
   "metadata": {},
   "outputs": [
    {
     "data": {
      "text/plain": [
       "     Min.   1st Qu.    Median      Mean   3rd Qu.      Max.      NA's \n",
       "1.151e+04 7.729e+05 6.572e+06 3.502e+07 2.500e+07 1.393e+09         1 "
      ]
     },
     "metadata": {},
     "output_type": "display_data"
    },
    {
     "data": {
      "text/html": [
       "<table>\n",
       "<thead><tr><th></th><th scope=col>Country</th><th scope=col>YR2018</th></tr></thead>\n",
       "<tbody>\n",
       "\t<tr><th scope=row>435</th><td>Afghanistan   </td><td>37172386      </td></tr>\n",
       "\t<tr><th scope=row>436</th><td>Albania       </td><td> 2866376      </td></tr>\n",
       "\t<tr><th scope=row>437</th><td>Algeria       </td><td>42228429      </td></tr>\n",
       "\t<tr><th scope=row>438</th><td>American Samoa</td><td>   55465      </td></tr>\n",
       "\t<tr><th scope=row>439</th><td>Andorra       </td><td>   77006      </td></tr>\n",
       "\t<tr><th scope=row>440</th><td>Angola        </td><td>30809762      </td></tr>\n",
       "</tbody>\n",
       "</table>\n"
      ],
      "text/latex": [
       "\\begin{tabular}{r|ll}\n",
       "  & Country & YR2018\\\\\n",
       "\\hline\n",
       "\t435 & Afghanistan    & 37172386      \\\\\n",
       "\t436 & Albania        &  2866376      \\\\\n",
       "\t437 & Algeria        & 42228429      \\\\\n",
       "\t438 & American Samoa &    55465      \\\\\n",
       "\t439 & Andorra        &    77006      \\\\\n",
       "\t440 & Angola         & 30809762      \\\\\n",
       "\\end{tabular}\n"
      ],
      "text/markdown": [
       "\n",
       "| <!--/--> | Country | YR2018 | \n",
       "|---|---|---|---|---|---|\n",
       "| 435 | Afghanistan    | 37172386       | \n",
       "| 436 | Albania        |  2866376       | \n",
       "| 437 | Algeria        | 42228429       | \n",
       "| 438 | American Samoa |    55465       | \n",
       "| 439 | Andorra        |    77006       | \n",
       "| 440 | Angola         | 30809762       | \n",
       "\n",
       "\n"
      ],
      "text/plain": [
       "    Country        YR2018  \n",
       "435 Afghanistan    37172386\n",
       "436 Albania         2866376\n",
       "437 Algeria        42228429\n",
       "438 American Samoa    55465\n",
       "439 Andorra           77006\n",
       "440 Angola         30809762"
      ]
     },
     "metadata": {},
     "output_type": "display_data"
    }
   ],
   "source": [
    "summary(poptot$YR2018)\n",
    "head(poptot)\n",
    "write.csv(poptot, \"PopulationTotal2018.csv\")"
   ]
  },
  {
   "cell_type": "code",
   "execution_count": 11,
   "metadata": {},
   "outputs": [],
   "source": [
    "library(ggplot2)"
   ]
  },
  {
   "cell_type": "code",
   "execution_count": 15,
   "metadata": {},
   "outputs": [
    {
     "ename": "ERROR",
     "evalue": "Error in .External2(C_savehistory, file): no history available to save\n",
     "output_type": "error",
     "traceback": [
      "Error in .External2(C_savehistory, file): no history available to save\nTraceback:\n",
      "1. history(popdens$YR2018)",
      "2. savehistory(file1)"
     ]
    }
   ],
   "source": [
    "history(popdens$YR2018)"
   ]
  },
  {
   "cell_type": "code",
   "execution_count": null,
   "metadata": {},
   "outputs": [],
   "source": []
  }
 ],
 "metadata": {
  "kernelspec": {
   "display_name": "R",
   "language": "R",
   "name": "ir"
  },
  "language_info": {
   "codemirror_mode": "r",
   "file_extension": ".r",
   "mimetype": "text/x-r-source",
   "name": "R",
   "pygments_lexer": "r",
   "version": "3.4.0"
  }
 },
 "nbformat": 4,
 "nbformat_minor": 4
}
