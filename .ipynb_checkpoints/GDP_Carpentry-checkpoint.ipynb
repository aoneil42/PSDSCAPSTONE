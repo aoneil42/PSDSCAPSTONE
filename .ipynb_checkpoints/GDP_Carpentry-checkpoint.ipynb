{
 "cells": [
  {
   "cell_type": "code",
   "execution_count": 1,
   "metadata": {},
   "outputs": [
    {
     "name": "stderr",
     "output_type": "stream",
     "text": [
      "Loading required package: zoo\n",
      "\n",
      "Attaching package: 'zoo'\n",
      "\n",
      "The following objects are masked from 'package:base':\n",
      "\n",
      "    as.Date, as.Date.numeric\n",
      "\n"
     ]
    }
   ],
   "source": [
    "library(xts)\n",
    "library(ggplot2)"
   ]
  },
  {
   "cell_type": "code",
   "execution_count": 2,
   "metadata": {},
   "outputs": [
    {
     "data": {
      "text/html": [
       "<table>\n",
       "<thead><tr><th></th><th scope=col>Country</th><th scope=col>SUBJECT</th><th scope=col>MEASURE</th><th scope=col>Period</th><th scope=col>Value</th></tr></thead>\n",
       "<tbody>\n",
       "\t<tr><th scope=row>34</th><td>Austria       </td><td>B1_GE         </td><td>GYSA          </td><td>Q3-2020       </td><td>-5.296425     </td></tr>\n",
       "\t<tr><th scope=row>52</th><td>Belgium       </td><td>B1_GE         </td><td>GYSA          </td><td>Q3-2020       </td><td>-5.142582     </td></tr>\n",
       "\t<tr><th scope=row>70</th><td>Canada        </td><td>B1_GE         </td><td>GYSA          </td><td>Q3-2020       </td><td>-4.581313     </td></tr>\n",
       "\t<tr><th scope=row>88</th><td>Czech Republic</td><td>B1_GE         </td><td>GYSA          </td><td>Q3-2020       </td><td>-5.803014     </td></tr>\n",
       "\t<tr><th scope=row>106</th><td>Denmark       </td><td>B1_GE         </td><td>GYSA          </td><td>Q3-2020       </td><td>-3.412501     </td></tr>\n",
       "\t<tr><th scope=row>124</th><td>Finland       </td><td>B1_GE         </td><td>GYSA          </td><td>Q3-2020       </td><td>-3.911502     </td></tr>\n",
       "</tbody>\n",
       "</table>\n"
      ],
      "text/latex": [
       "\\begin{tabular}{r|lllll}\n",
       "  & Country & SUBJECT & MEASURE & Period & Value\\\\\n",
       "\\hline\n",
       "\t34 & Austria        & B1\\_GE        & GYSA           & Q3-2020        & -5.296425     \\\\\n",
       "\t52 & Belgium        & B1\\_GE        & GYSA           & Q3-2020        & -5.142582     \\\\\n",
       "\t70 & Canada         & B1\\_GE        & GYSA           & Q3-2020        & -4.581313     \\\\\n",
       "\t88 & Czech Republic & B1\\_GE        & GYSA           & Q3-2020        & -5.803014     \\\\\n",
       "\t106 & Denmark        & B1\\_GE        & GYSA           & Q3-2020        & -3.412501     \\\\\n",
       "\t124 & Finland        & B1\\_GE        & GYSA           & Q3-2020        & -3.911502     \\\\\n",
       "\\end{tabular}\n"
      ],
      "text/markdown": [
       "\n",
       "| <!--/--> | Country | SUBJECT | MEASURE | Period | Value | \n",
       "|---|---|---|---|---|---|\n",
       "| 34 | Austria        | B1_GE          | GYSA           | Q3-2020        | -5.296425      | \n",
       "| 52 | Belgium        | B1_GE          | GYSA           | Q3-2020        | -5.142582      | \n",
       "| 70 | Canada         | B1_GE          | GYSA           | Q3-2020        | -4.581313      | \n",
       "| 88 | Czech Republic | B1_GE          | GYSA           | Q3-2020        | -5.803014      | \n",
       "| 106 | Denmark        | B1_GE          | GYSA           | Q3-2020        | -3.412501      | \n",
       "| 124 | Finland        | B1_GE          | GYSA           | Q3-2020        | -3.911502      | \n",
       "\n",
       "\n"
      ],
      "text/plain": [
       "    Country        SUBJECT MEASURE Period  Value    \n",
       "34  Austria        B1_GE   GYSA    Q3-2020 -5.296425\n",
       "52  Belgium        B1_GE   GYSA    Q3-2020 -5.142582\n",
       "70  Canada         B1_GE   GYSA    Q3-2020 -4.581313\n",
       "88  Czech Republic B1_GE   GYSA    Q3-2020 -5.803014\n",
       "106 Denmark        B1_GE   GYSA    Q3-2020 -3.412501\n",
       "124 Finland        B1_GE   GYSA    Q3-2020 -3.911502"
      ]
     },
     "metadata": {},
     "output_type": "display_data"
    }
   ],
   "source": [
    "gdp <- read.csv(\"GDP.csv\")[,c(2,3,5,10,17)]\n",
    "head(subset(gdp, SUBJECT == \"B1_GE\" & Period == \"Q3-2020\" & MEASURE == \"GYSA\"))"
   ]
  },
  {
   "cell_type": "code",
   "execution_count": 3,
   "metadata": {},
   "outputs": [],
   "source": [
    "Q1_2019_GDP_YoY <- subset(gdp, SUBJECT == \"B1_GE\" & Period == \"Q1-2019\" & MEASURE == \"GYSA\")\n",
    "Q2_2019_GDP_YoY <- subset(gdp, SUBJECT == \"B1_GE\" & Period == \"Q2-2019\" & MEASURE == \"GYSA\")\n",
    "Q3_2019_GDP_YoY <- subset(gdp, SUBJECT == \"B1_GE\" & Period == \"Q3-2019\" & MEASURE == \"GYSA\")\n",
    "Q4_2019_GDP_YoY <- subset(gdp, SUBJECT == \"B1_GE\" & Period == \"Q4-2019\" & MEASURE == \"GYSA\")\n",
    "Q1_2020_GDP_YoY <- subset(gdp, SUBJECT == \"B1_GE\" & Period == \"Q1-2020\" & MEASURE == \"GYSA\")\n",
    "Q2_2020_GDP_YoY <- subset(gdp, SUBJECT == \"B1_GE\" & Period == \"Q2-2020\" & MEASURE == \"GYSA\")\n",
    "Q3_2020_GDP_YoY <- subset(gdp, SUBJECT == \"B1_GE\" & Period == \"Q3-2020\" & MEASURE == \"GYSA\")"
   ]
  },
  {
   "cell_type": "code",
   "execution_count": 4,
   "metadata": {},
   "outputs": [],
   "source": [
    "Q1_2019_GDP_YoY <- Q1_2019_GDP_YoY[,c(1,5)]\n",
    "colnames(Q1_2019_GDP_YoY) <- c(\"Country\",\"Q1_2019\")\n",
    "Q2_2019_GDP_YoY <- Q2_2019_GDP_YoY[,c(1,5)]\n",
    "colnames(Q2_2019_GDP_YoY) <- c(\"Country\",\"Q2_2019\")\n",
    "Q3_2019_GDP_YoY <- Q3_2019_GDP_YoY[,c(1,5)]\n",
    "colnames(Q3_2019_GDP_YoY) <- c(\"Country\",\"Q3_2019\")\n",
    "Q4_2019_GDP_YoY <- Q4_2019_GDP_YoY[,c(1,5)]\n",
    "colnames(Q4_2019_GDP_YoY) <- c(\"Country\",\"Q4_2019\")\n",
    "Q1_2020_GDP_YoY <- Q1_2020_GDP_YoY[,c(1,5)]\n",
    "colnames(Q1_2020_GDP_YoY) <- c(\"Country\",\"Q1_2020\")\n",
    "Q2_2020_GDP_YoY <- Q2_2020_GDP_YoY[,c(1,5)]\n",
    "colnames(Q2_2020_GDP_YoY) <- c(\"Country\",\"Q2_2020\")\n",
    "Q3_2020_GDP_YoY <- Q3_2020_GDP_YoY[,c(1,5)]\n",
    "colnames(Q3_2020_GDP_YoY) <- c(\"Country\",\"Q3_2020\")"
   ]
  },
  {
   "cell_type": "code",
   "execution_count": 5,
   "metadata": {},
   "outputs": [],
   "source": [
    "GDP_SET <- merge(Q1_2019_GDP_YoY, Q2_2019_GDP_YoY, by = \"Country\")\n",
    "GDP_SET <- merge(GDP_SET, Q3_2019_GDP_YoY, by = \"Country\")\n",
    "GDP_SET <- merge(GDP_SET, Q4_2019_GDP_YoY, by = \"Country\")\n",
    "GDP_SET <- merge(GDP_SET, Q1_2020_GDP_YoY, by = \"Country\")\n",
    "GDP_SET_2Q <- merge(GDP_SET, Q2_2020_GDP_YoY, by = \"Country\")\n",
    "GDP_SET_3Q <- merge(GDP_SET_2Q, Q3_2020_GDP_YoY, by = \"Country\")"
   ]
  },
  {
   "cell_type": "code",
   "execution_count": 6,
   "metadata": {},
   "outputs": [],
   "source": [
    "write.csv(GDP_SET_2Q, \"GDP_2Q.csv\")\n",
    "write.csv(GDP_SET_3Q, \"GDP_3Q.csv\")"
   ]
  },
  {
   "cell_type": "code",
   "execution_count": null,
   "metadata": {},
   "outputs": [],
   "source": []
  },
  {
   "cell_type": "code",
   "execution_count": null,
   "metadata": {},
   "outputs": [],
   "source": []
  }
 ],
 "metadata": {
  "kernelspec": {
   "display_name": "R",
   "language": "R",
   "name": "ir"
  },
  "language_info": {
   "codemirror_mode": "r",
   "file_extension": ".r",
   "mimetype": "text/x-r-source",
   "name": "R",
   "pygments_lexer": "r",
   "version": "3.4.0"
  }
 },
 "nbformat": 4,
 "nbformat_minor": 4
}
